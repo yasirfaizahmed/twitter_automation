{
 "cells": [
  {
   "cell_type": "code",
   "execution_count": 8,
   "metadata": {},
   "outputs": [],
   "source": [
    "import pandas as pd\n",
    "\n",
    "\n",
    "#data = pd.read_csv(\"/home/xd/Documents/python_codes/twitter_automation/_USER_DATA/March-12-2024_22-25-03.txt\", sep=)\n",
    "\n",
    "\n",
    "file_path = \"/home/xd/Documents/python_codes/twitter_automation/_USER_DATA/March-16-2024_16-55-58.csv\"\n",
    "\n",
    "df = pd.read_csv(file_path, index_col=False)"
   ]
  },
  {
   "cell_type": "code",
   "execution_count": 16,
   "metadata": {},
   "outputs": [
    {
     "data": {
      "text/plain": [
       "'I have spoken to this girl. I have been in touch with her. And the kind of threats she is getting is disgusting. So much so, that a full grown adult “journalist” called her up and was harassing her. This girl is a 20 year old kid and this “journalist” called her and tried to…'"
      ]
     },
     "execution_count": 16,
     "metadata": {},
     "output_type": "execute_result"
    }
   ],
   "source": []
  }
 ],
 "metadata": {
  "kernelspec": {
   "display_name": ".venv",
   "language": "python",
   "name": "python3"
  },
  "language_info": {
   "codemirror_mode": {
    "name": "ipython",
    "version": 3
   },
   "file_extension": ".py",
   "mimetype": "text/x-python",
   "name": "python",
   "nbconvert_exporter": "python",
   "pygments_lexer": "ipython3",
   "version": "3.10.12"
  }
 },
 "nbformat": 4,
 "nbformat_minor": 2
}
